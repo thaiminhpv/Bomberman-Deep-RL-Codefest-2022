{
 "cells": [
  {
   "cell_type": "code",
   "execution_count": 50,
   "outputs": [],
   "source": [
    "import numpy as np\n",
    "import matplotlib.pyplot as plt\n",
    "import pandas as pd\n",
    "import json\n",
    "import torch\n",
    "import torch.nn as nn\n",
    "import torch.nn.functional as F\n",
    "\n"
   ],
   "metadata": {
    "collapsed": false,
    "pycharm": {
     "name": "#%%\n"
    }
   }
  },
  {
   "cell_type": "code",
   "execution_count": 51,
   "outputs": [
    {
     "data": {
      "text/plain": "{'gameRemainTime': 0,\n 'id': 2161,\n 'map_info': {'bombs': [],\n  'gameStatus': None,\n  'human': [{'curedRemainTime': 0,\n    'direction': 3,\n    'infected': True,\n    'position': {'col': 17, 'row': 11}},\n   {'curedRemainTime': 0,\n    'direction': 1,\n    'infected': True,\n    'position': {'col': 9, 'row': 5}},\n   {'curedRemainTime': 0,\n    'direction': 3,\n    'infected': True,\n    'position': {'col': 23, 'row': 6}}],\n  'humanSpeed': 70,\n  'map': [[1,\n    1,\n    1,\n    1,\n    1,\n    1,\n    1,\n    1,\n    1,\n    1,\n    1,\n    1,\n    1,\n    1,\n    1,\n    1,\n    1,\n    1,\n    1,\n    1,\n    1,\n    1,\n    1,\n    1,\n    1,\n    1],\n   [1,\n    2,\n    2,\n    2,\n    2,\n    2,\n    0,\n    1,\n    0,\n    2,\n    0,\n    2,\n    2,\n    2,\n    2,\n    0,\n    2,\n    0,\n    1,\n    0,\n    2,\n    2,\n    2,\n    2,\n    2,\n    1],\n   [1,\n    2,\n    0,\n    0,\n    0,\n    2,\n    0,\n    1,\n    0,\n    2,\n    0,\n    2,\n    0,\n    0,\n    2,\n    0,\n    2,\n    0,\n    1,\n    0,\n    2,\n    0,\n    0,\n    0,\n    2,\n    1],\n   [1,\n    2,\n    0,\n    6,\n    0,\n    2,\n    0,\n    1,\n    0,\n    2,\n    0,\n    2,\n    0,\n    0,\n    2,\n    0,\n    2,\n    0,\n    1,\n    0,\n    2,\n    0,\n    6,\n    0,\n    2,\n    1],\n   [1,\n    2,\n    0,\n    0,\n    0,\n    2,\n    0,\n    1,\n    0,\n    1,\n    1,\n    1,\n    0,\n    0,\n    1,\n    1,\n    1,\n    0,\n    1,\n    0,\n    2,\n    0,\n    0,\n    0,\n    2,\n    1],\n   [1,\n    2,\n    2,\n    2,\n    0,\n    2,\n    0,\n    1,\n    0,\n    0,\n    0,\n    0,\n    0,\n    0,\n    0,\n    0,\n    0,\n    0,\n    1,\n    0,\n    2,\n    2,\n    2,\n    2,\n    2,\n    1],\n   [1,\n    0,\n    0,\n    1,\n    0,\n    0,\n    0,\n    0,\n    0,\n    0,\n    0,\n    0,\n    0,\n    0,\n    0,\n    0,\n    0,\n    0,\n    0,\n    0,\n    1,\n    0,\n    0,\n    0,\n    1,\n    1],\n   [1,\n    1,\n    0,\n    0,\n    0,\n    1,\n    0,\n    0,\n    0,\n    0,\n    0,\n    0,\n    0,\n    0,\n    0,\n    0,\n    0,\n    0,\n    0,\n    0,\n    0,\n    0,\n    1,\n    0,\n    0,\n    1],\n   [1,\n    2,\n    2,\n    0,\n    0,\n    2,\n    0,\n    1,\n    0,\n    0,\n    0,\n    0,\n    0,\n    0,\n    0,\n    0,\n    0,\n    0,\n    1,\n    0,\n    2,\n    2,\n    2,\n    2,\n    2,\n    1],\n   [1,\n    0,\n    0,\n    0,\n    0,\n    0,\n    0,\n    1,\n    0,\n    0,\n    0,\n    0,\n    0,\n    0,\n    0,\n    0,\n    0,\n    0,\n    1,\n    0,\n    2,\n    0,\n    0,\n    0,\n    2,\n    1],\n   [1,\n    2,\n    0,\n    6,\n    0,\n    2,\n    0,\n    1,\n    2,\n    2,\n    2,\n    2,\n    2,\n    0,\n    0,\n    2,\n    0,\n    0,\n    1,\n    0,\n    2,\n    0,\n    6,\n    0,\n    2,\n    1],\n   [1,\n    2,\n    0,\n    0,\n    0,\n    2,\n    0,\n    1,\n    0,\n    0,\n    0,\n    2,\n    1,\n    1,\n    0,\n    0,\n    0,\n    0,\n    1,\n    0,\n    2,\n    0,\n    0,\n    0,\n    2,\n    1],\n   [1,\n    0,\n    0,\n    0,\n    0,\n    0,\n    0,\n    1,\n    0,\n    0,\n    0,\n    1,\n    7,\n    7,\n    1,\n    0,\n    0,\n    0,\n    1,\n    0,\n    2,\n    2,\n    2,\n    2,\n    2,\n    1],\n   [1,\n    1,\n    1,\n    1,\n    1,\n    1,\n    1,\n    1,\n    1,\n    1,\n    1,\n    1,\n    1,\n    1,\n    1,\n    1,\n    1,\n    1,\n    1,\n    1,\n    1,\n    1,\n    1,\n    1,\n    1,\n    1]],\n  'players': [{'box': 31,\n    'currentPosition': {'col': 2, 'row': 3},\n    'delay': 0,\n    'humanCured': 5,\n    'humanInfected': 4,\n    'humanSaved': 2,\n    'id': 'player1-xxx',\n    'lives': 987,\n    'pill': 0,\n    'pillUsed': 15,\n    'power': 7,\n    'quarantine': 2,\n    'score': 9,\n    'spawnBegin': {'col': 15, 'row': 5},\n    'speed': 230,\n    'timeStone': 4,\n    'virus': 10,\n    'virusInfected': 3},\n   {'box': 0,\n    'currentPosition': {'col': 13, 'row': 12},\n    'delay': 1200,\n    'humanCured': 0,\n    'humanInfected': 7,\n    'humanSaved': 0,\n    'id': 'player2-xxx',\n    'lives': 999,\n    'pill': 0,\n    'pillUsed': 1,\n    'power': 1,\n    'quarantine': 0,\n    'score': 0,\n    'spawnBegin': {'col': 10, 'row': 5},\n    'speed': 230,\n    'timeStone': 0,\n    'virus': 1,\n    'virusInfected': 1}],\n  'size': {'cols': 26, 'rows': 14},\n  'spoils': [{'col': 1, 'row': 6, 'spoil_type': 5},\n   {'col': 4, 'row': 6, 'spoil_type': 5},\n   {'col': 17, 'row': 3, 'spoil_type': 5},\n   {'col': 17, 'row': 2, 'spoil_type': 5},\n   {'col': 6, 'row': 6, 'spoil_type': 3},\n   {'col': 21, 'row': 4, 'spoil_type': 3},\n   {'col': 21, 'row': 6, 'spoil_type': 5},\n   {'col': 19, 'row': 8, 'spoil_type': 5},\n   {'col': 12, 'row': 3, 'spoil_type': 5},\n   {'col': 13, 'row': 3, 'spoil_type': 4},\n   {'col': 8, 'row': 12, 'spoil_type': 3},\n   {'col': 10, 'row': 12, 'spoil_type': 5},\n   {'col': 12, 'row': 9, 'spoil_type': 4},\n   {'col': 13, 'row': 9, 'spoil_type': 3},\n   {'col': 6, 'row': 9, 'spoil_type': 3},\n   {'col': 8, 'row': 3, 'spoil_type': 5},\n   {'col': 8, 'row': 1, 'spoil_type': 3},\n   {'col': 8, 'row': 2, 'spoil_type': 5},\n   {'col': 17, 'row': 12, 'spoil_type': 5},\n   {'col': 12, 'row': 8, 'spoil_type': 5},\n   {'col': 10, 'row': 9, 'spoil_type': 5},\n   {'col': 11, 'row': 9, 'spoil_type': 3},\n   {'col': 9, 'row': 8, 'spoil_type': 5},\n   {'col': 6, 'row': 4, 'spoil_type': 4},\n   {'col': 5, 'row': 6, 'spoil_type': 5},\n   {'col': 7, 'row': 6, 'spoil_type': 3},\n   {'col': 8, 'row': 8, 'spoil_type': 4},\n   {'col': 9, 'row': 9, 'spoil_type': 3},\n   {'col': 8, 'row': 9, 'spoil_type': 5},\n   {'col': 23, 'row': 4, 'spoil_type': 5},\n   {'col': 2, 'row': 7, 'spoil_type': 4},\n   {'col': 3, 'row': 7, 'spoil_type': 5},\n   {'col': 19, 'row': 5, 'spoil_type': 4},\n   {'col': 10, 'row': 11, 'spoil_type': 5},\n   {'col': 6, 'row': 7, 'spoil_type': 5},\n   {'col': 8, 'row': 7, 'spoil_type': 4},\n   {'col': 6, 'row': 8, 'spoil_type': 3},\n   {'col': 19, 'row': 12, 'spoil_type': 4},\n   {'col': 6, 'row': 1, 'spoil_type': 3},\n   {'col': 19, 'row': 10, 'spoil_type': 5},\n   {'col': 19, 'row': 11, 'spoil_type': 4},\n   {'col': 8, 'row': 11, 'spoil_type': 5},\n   {'col': 9, 'row': 11, 'spoil_type': 5},\n   {'col': 12, 'row': 7, 'spoil_type': 5},\n   {'col': 15, 'row': 2, 'spoil_type': 5},\n   {'col': 23, 'row': 6, 'spoil_type': 4},\n   {'col': 14, 'row': 11, 'spoil_type': 5},\n   {'col': 24, 'row': 7, 'spoil_type': 4},\n   {'col': 9, 'row': 6, 'spoil_type': 5},\n   {'col': 11, 'row': 7, 'spoil_type': 5},\n   {'col': 12, 'row': 2, 'spoil_type': 5},\n   {'col': 13, 'row': 2, 'spoil_type': 5},\n   {'col': 13, 'row': 10, 'spoil_type': 5},\n   {'col': 9, 'row': 7, 'spoil_type': 5},\n   {'col': 16, 'row': 10, 'spoil_type': 5},\n   {'col': 15, 'row': 8, 'spoil_type': 3},\n   {'col': 13, 'row': 7, 'spoil_type': 5},\n   {'col': 14, 'row': 8, 'spoil_type': 5},\n   {'col': 8, 'row': 6, 'spoil_type': 3},\n   {'col': 6, 'row': 5, 'spoil_type': 5},\n   {'col': 8, 'row': 5, 'spoil_type': 5},\n   {'col': 17, 'row': 10, 'spoil_type': 4},\n   {'col': 17, 'row': 11, 'spoil_type': 3},\n   {'col': 10, 'row': 1, 'spoil_type': 5},\n   {'col': 10, 'row': 3, 'spoil_type': 3},\n   {'col': 20, 'row': 7, 'spoil_type': 4},\n   {'col': 19, 'row': 7, 'spoil_type': 4},\n   {'col': 21, 'row': 7, 'spoil_type': 4},\n   {'col': 15, 'row': 6, 'spoil_type': 3},\n   {'col': 11, 'row': 8, 'spoil_type': 4},\n   {'col': 11, 'row': 6, 'spoil_type': 5},\n   {'col': 7, 'row': 7, 'spoil_type': 5},\n   {'col': 16, 'row': 11, 'spoil_type': 5},\n   {'col': 15, 'row': 11, 'spoil_type': 4},\n   {'col': 14, 'row': 10, 'spoil_type': 5},\n   {'col': 23, 'row': 11, 'spoil_type': 5},\n   {'col': 12, 'row': 4, 'spoil_type': 5},\n   {'col': 13, 'row': 4, 'spoil_type': 5},\n   {'col': 21, 'row': 10, 'spoil_type': 4},\n   {'col': 21, 'row': 11, 'spoil_type': 4},\n   {'col': 17, 'row': 8, 'spoil_type': 5},\n   {'col': 17, 'row': 7, 'spoil_type': 5},\n   {'col': 15, 'row': 7, 'spoil_type': 5},\n   {'col': 15, 'row': 3, 'spoil_type': 4},\n   {'col': 14, 'row': 9, 'spoil_type': 3},\n   {'col': 13, 'row': 8, 'spoil_type': 5},\n   {'col': 10, 'row': 6, 'spoil_type': 3},\n   {'col': 11, 'row': 5, 'spoil_type': 5},\n   {'col': 12, 'row': 6, 'spoil_type': 5},\n   {'col': 14, 'row': 5, 'spoil_type': 5},\n   {'col': 13, 'row': 5, 'spoil_type': 5},\n   {'col': 15, 'row': 5, 'spoil_type': 4},\n   {'col': 9, 'row': 5, 'spoil_type': 4},\n   {'col': 10, 'row': 5, 'spoil_type': 5},\n   {'col': 19, 'row': 4, 'spoil_type': 3},\n   {'col': 19, 'row': 3, 'spoil_type': 4},\n   {'col': 19, 'row': 2, 'spoil_type': 5},\n   {'col': 13, 'row': 6, 'spoil_type': 5},\n   {'col': 14, 'row': 7, 'spoil_type': 4},\n   {'col': 14, 'row': 6, 'spoil_type': 5},\n   {'col': 12, 'row': 5, 'spoil_type': 5},\n   {'col': 22, 'row': 6, 'spoil_type': 3},\n   {'col': 17, 'row': 4, 'spoil_type': 4},\n   {'col': 18, 'row': 6, 'spoil_type': 4},\n   {'col': 6, 'row': 10, 'spoil_type': 5},\n   {'col': 6, 'row': 11, 'spoil_type': 4},\n   {'col': 9, 'row': 12, 'spoil_type': 3},\n   {'col': 17, 'row': 6, 'spoil_type': 4},\n   {'col': 18, 'row': 7, 'spoil_type': 4},\n   {'col': 4, 'row': 8, 'spoil_type': 5},\n   {'col': 5, 'row': 9, 'spoil_type': 5},\n   {'col': 3, 'row': 8, 'spoil_type': 5},\n   {'col': 5, 'row': 12, 'spoil_type': 5},\n   {'col': 4, 'row': 5, 'spoil_type': 5},\n   {'col': 10, 'row': 2, 'spoil_type': 5},\n   {'col': 22, 'row': 9, 'spoil_type': 5},\n   {'col': 21, 'row': 9, 'spoil_type': 3},\n   {'col': 15, 'row': 9, 'spoil_type': 3},\n   {'col': 22, 'row': 11, 'spoil_type': 4},\n   {'col': 10, 'row': 8, 'spoil_type': 5},\n   {'col': 16, 'row': 5, 'spoil_type': 5},\n   {'col': 17, 'row': 5, 'spoil_type': 5},\n   {'col': 16, 'row': 9, 'spoil_type': 5},\n   {'col': 19, 'row': 6, 'spoil_type': 5}],\n  'virusSpeed': 52.5,\n  'viruses': [{'direction': 1, 'position': {'col': 21, 'row': 4}},\n   {'direction': 3, 'position': {'col': 21, 'row': 2}},\n   {'direction': 4, 'position': {'col': 22, 'row': 10}},\n   {'direction': 1, 'position': {'col': 3, 'row': 12}},\n   {'direction': 3, 'position': {'col': 22, 'row': 3}},\n   {'direction': 2, 'position': {'col': 23, 'row': 2}},\n   {'direction': 4, 'position': {'col': 16, 'row': 6}},\n   {'direction': 3, 'position': {'col': 21, 'row': 9}},\n   {'direction': 2, 'position': {'col': 22, 'row': 3}},\n   {'direction': 4, 'position': {'col': 23, 'row': 11}},\n   {'direction': 1, 'position': {'col': 8, 'row': 7}},\n   {'direction': 4, 'position': {'col': 3, 'row': 11}}]},\n 'tag': 'update-data',\n 'timestamp': 1660504366287}"
     },
     "execution_count": 51,
     "metadata": {},
     "output_type": "execute_result"
    }
   ],
   "source": [
    "# read json file\n",
    "file = 'data.json'\n",
    "with open(file) as f:\n",
    "    data = json.load(f)\n",
    "\n",
    "data"
   ],
   "metadata": {
    "collapsed": false,
    "pycharm": {
     "name": "#%%\n"
    }
   }
  },
  {
   "cell_type": "code",
   "execution_count": 52,
   "outputs": [],
   "source": [
    "mapp = data['map_info']['map']"
   ],
   "metadata": {
    "collapsed": false,
    "pycharm": {
     "name": "#%%\n"
    }
   }
  },
  {
   "cell_type": "code",
   "execution_count": 53,
   "outputs": [],
   "source": [
    "mapp = np.array(mapp)"
   ],
   "metadata": {
    "collapsed": false,
    "pycharm": {
     "name": "#%%\n"
    }
   }
  },
  {
   "cell_type": "code",
   "execution_count": 54,
   "outputs": [
    {
     "data": {
      "text/plain": "array([[1, 1, 1, 1, 1, 1, 1, 1, 1, 1, 1, 1, 1, 1, 1, 1, 1, 1, 1, 1, 1, 1,\n        1, 1, 1, 1],\n       [1, 2, 2, 2, 2, 2, 0, 1, 0, 2, 0, 2, 2, 2, 2, 0, 2, 0, 1, 0, 2, 2,\n        2, 2, 2, 1],\n       [1, 2, 0, 0, 0, 2, 0, 1, 0, 2, 0, 2, 0, 0, 2, 0, 2, 0, 1, 0, 2, 0,\n        0, 0, 2, 1],\n       [1, 2, 0, 6, 0, 2, 0, 1, 0, 2, 0, 2, 0, 0, 2, 0, 2, 0, 1, 0, 2, 0,\n        6, 0, 2, 1],\n       [1, 2, 0, 0, 0, 2, 0, 1, 0, 1, 1, 1, 0, 0, 1, 1, 1, 0, 1, 0, 2, 0,\n        0, 0, 2, 1],\n       [1, 2, 2, 2, 0, 2, 0, 1, 0, 0, 0, 0, 0, 0, 0, 0, 0, 0, 1, 0, 2, 2,\n        2, 2, 2, 1],\n       [1, 0, 0, 1, 0, 0, 0, 0, 0, 0, 0, 0, 0, 0, 0, 0, 0, 0, 0, 0, 1, 0,\n        0, 0, 1, 1],\n       [1, 1, 0, 0, 0, 1, 0, 0, 0, 0, 0, 0, 0, 0, 0, 0, 0, 0, 0, 0, 0, 0,\n        1, 0, 0, 1],\n       [1, 2, 2, 0, 0, 2, 0, 1, 0, 0, 0, 0, 0, 0, 0, 0, 0, 0, 1, 0, 2, 2,\n        2, 2, 2, 1],\n       [1, 0, 0, 0, 0, 0, 0, 1, 0, 0, 0, 0, 0, 0, 0, 0, 0, 0, 1, 0, 2, 0,\n        0, 0, 2, 1],\n       [1, 2, 0, 6, 0, 2, 0, 1, 2, 2, 2, 2, 2, 0, 0, 2, 0, 0, 1, 0, 2, 0,\n        6, 0, 2, 1],\n       [1, 2, 0, 0, 0, 2, 0, 1, 0, 0, 0, 2, 1, 1, 0, 0, 0, 0, 1, 0, 2, 0,\n        0, 0, 2, 1],\n       [1, 0, 0, 0, 0, 0, 0, 1, 0, 0, 0, 1, 7, 7, 1, 0, 0, 0, 1, 0, 2, 2,\n        2, 2, 2, 1],\n       [1, 1, 1, 1, 1, 1, 1, 1, 1, 1, 1, 1, 1, 1, 1, 1, 1, 1, 1, 1, 1, 1,\n        1, 1, 1, 1]])"
     },
     "execution_count": 54,
     "metadata": {},
     "output_type": "execute_result"
    }
   ],
   "source": [
    "mapp"
   ],
   "metadata": {
    "collapsed": false,
    "pycharm": {
     "name": "#%%\n"
    }
   }
  },
  {
   "cell_type": "code",
   "execution_count": 55,
   "outputs": [
    {
     "data": {
      "text/plain": "array([0, 1, 2, 6, 7])"
     },
     "execution_count": 55,
     "metadata": {},
     "output_type": "execute_result"
    }
   ],
   "source": [
    "np.unique(mapp)"
   ],
   "metadata": {
    "collapsed": false,
    "pycharm": {
     "name": "#%%\n"
    }
   }
  },
  {
   "cell_type": "code",
   "execution_count": 56,
   "outputs": [],
   "source": [
    "mapp[mapp == 6] = 3\n",
    "mapp[mapp == 7] = 4\n"
   ],
   "metadata": {
    "collapsed": false,
    "pycharm": {
     "name": "#%%\n"
    }
   }
  },
  {
   "cell_type": "code",
   "execution_count": 57,
   "outputs": [
    {
     "data": {
      "text/plain": "array([0, 1, 2, 3, 4])"
     },
     "execution_count": 57,
     "metadata": {},
     "output_type": "execute_result"
    }
   ],
   "source": [
    "np.unique(mapp)"
   ],
   "metadata": {
    "collapsed": false,
    "pycharm": {
     "name": "#%%\n"
    }
   }
  },
  {
   "cell_type": "code",
   "execution_count": 58,
   "outputs": [],
   "source": [
    "mapp = torch.from_numpy(mapp)"
   ],
   "metadata": {
    "collapsed": false,
    "pycharm": {
     "name": "#%%\n"
    }
   }
  },
  {
   "cell_type": "code",
   "execution_count": 61,
   "outputs": [],
   "source": [
    "mapp = F.one_hot(mapp)"
   ],
   "metadata": {
    "collapsed": false,
    "pycharm": {
     "name": "#%%\n"
    }
   }
  },
  {
   "cell_type": "code",
   "execution_count": 63,
   "outputs": [
    {
     "data": {
      "text/plain": "torch.Size([14, 26, 5])"
     },
     "execution_count": 63,
     "metadata": {},
     "output_type": "execute_result"
    }
   ],
   "source": [
    "mapp.shape"
   ],
   "metadata": {
    "collapsed": false,
    "pycharm": {
     "name": "#%%\n"
    }
   }
  },
  {
   "cell_type": "code",
   "execution_count": 64,
   "outputs": [
    {
     "data": {
      "text/plain": "tensor([[[0, 1, 0, 0, 0],\n         [0, 1, 0, 0, 0],\n         [0, 1, 0, 0, 0],\n         ...,\n         [0, 1, 0, 0, 0],\n         [0, 1, 0, 0, 0],\n         [0, 1, 0, 0, 0]],\n\n        [[0, 1, 0, 0, 0],\n         [0, 0, 1, 0, 0],\n         [0, 0, 1, 0, 0],\n         ...,\n         [0, 0, 1, 0, 0],\n         [0, 0, 1, 0, 0],\n         [0, 1, 0, 0, 0]],\n\n        [[0, 1, 0, 0, 0],\n         [0, 0, 1, 0, 0],\n         [1, 0, 0, 0, 0],\n         ...,\n         [1, 0, 0, 0, 0],\n         [0, 0, 1, 0, 0],\n         [0, 1, 0, 0, 0]],\n\n        ...,\n\n        [[0, 1, 0, 0, 0],\n         [0, 0, 1, 0, 0],\n         [1, 0, 0, 0, 0],\n         ...,\n         [1, 0, 0, 0, 0],\n         [0, 0, 1, 0, 0],\n         [0, 1, 0, 0, 0]],\n\n        [[0, 1, 0, 0, 0],\n         [1, 0, 0, 0, 0],\n         [1, 0, 0, 0, 0],\n         ...,\n         [0, 0, 1, 0, 0],\n         [0, 0, 1, 0, 0],\n         [0, 1, 0, 0, 0]],\n\n        [[0, 1, 0, 0, 0],\n         [0, 1, 0, 0, 0],\n         [0, 1, 0, 0, 0],\n         ...,\n         [0, 1, 0, 0, 0],\n         [0, 1, 0, 0, 0],\n         [0, 1, 0, 0, 0]]])"
     },
     "execution_count": 64,
     "metadata": {},
     "output_type": "execute_result"
    }
   ],
   "source": [
    "mapp"
   ],
   "metadata": {
    "collapsed": false,
    "pycharm": {
     "name": "#%%\n"
    }
   }
  }
 ],
 "metadata": {
  "kernelspec": {
   "display_name": "Python 3",
   "language": "python",
   "name": "python3"
  },
  "language_info": {
   "codemirror_mode": {
    "name": "ipython",
    "version": 2
   },
   "file_extension": ".py",
   "mimetype": "text/x-python",
   "name": "python",
   "nbconvert_exporter": "python",
   "pygments_lexer": "ipython2",
   "version": "2.7.6"
  }
 },
 "nbformat": 4,
 "nbformat_minor": 0
}