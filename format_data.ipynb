{
 "cells": [
  {
   "cell_type": "code",
   "execution_count": 26,
   "outputs": [],
   "source": [
    "import numpy as np\n",
    "import matplotlib.pyplot as plt\n",
    "import pandas as pd\n",
    "import json\n",
    "import torch\n",
    "import torch.nn as nn\n",
    "import torch.nn.functional as F\n",
    "\n"
   ],
   "metadata": {
    "collapsed": false,
    "pycharm": {
     "name": "#%%\n"
    }
   }
  },
  {
   "cell_type": "code",
   "execution_count": 27,
   "outputs": [
    {
     "data": {
      "text/plain": "{'gameRemainTime': 0,\n 'id': 814,\n 'map_info': {'bombs': [{'col': 20,\n    'playerId': 'player2-xxx',\n    'remainTime': 1999,\n    'row': 1}],\n  'gameStatus': None,\n  'human': [{'curedRemainTime': 0,\n    'direction': 2,\n    'infected': True,\n    'position': {'col': 1, 'row': 10}},\n   {'curedRemainTime': 0,\n    'direction': 4,\n    'infected': True,\n    'position': {'col': 1, 'row': 8}},\n   {'curedRemainTime': 0,\n    'direction': 4,\n    'infected': True,\n    'position': {'col': 13, 'row': 4}},\n   {'curedRemainTime': 0,\n    'direction': 1,\n    'infected': True,\n    'position': {'col': 11, 'row': 12}},\n   {'curedRemainTime': 0,\n    'direction': 4,\n    'infected': True,\n    'position': {'col': 19, 'row': 9}},\n   {'curedRemainTime': 0,\n    'direction': 2,\n    'infected': True,\n    'position': {'col': 19, 'row': 9}},\n   {'curedRemainTime': 0,\n    'direction': 4,\n    'infected': True,\n    'position': {'col': 1, 'row': 10}},\n   {'curedRemainTime': 0,\n    'direction': 1,\n    'infected': True,\n    'position': {'col': 14, 'row': 4}},\n   {'curedRemainTime': 0,\n    'direction': 4,\n    'infected': True,\n    'position': {'col': 1, 'row': 9}},\n   {'curedRemainTime': 0,\n    'direction': 2,\n    'infected': True,\n    'position': {'col': 3, 'row': 1}},\n   {'curedRemainTime': 0,\n    'direction': 1,\n    'infected': True,\n    'position': {'col': 4, 'row': 11}},\n   {'curedRemainTime': 0,\n    'direction': 1,\n    'infected': True,\n    'position': {'col': 4, 'row': 5}}],\n  'humanSpeed': 70,\n  'map': [[1,\n    1,\n    1,\n    1,\n    1,\n    1,\n    1,\n    1,\n    1,\n    1,\n    1,\n    1,\n    1,\n    1,\n    1,\n    1,\n    1,\n    1,\n    1,\n    1,\n    1,\n    1,\n    1,\n    1,\n    1,\n    1],\n   [1,\n    1,\n    0,\n    0,\n    0,\n    1,\n    7,\n    1,\n    0,\n    0,\n    0,\n    2,\n    1,\n    2,\n    0,\n    0,\n    0,\n    0,\n    0,\n    0,\n    0,\n    2,\n    0,\n    0,\n    1,\n    1],\n   [1,\n    0,\n    1,\n    0,\n    0,\n    0,\n    1,\n    0,\n    0,\n    0,\n    2,\n    1,\n    0,\n    0,\n    2,\n    0,\n    0,\n    0,\n    0,\n    0,\n    2,\n    0,\n    0,\n    1,\n    2,\n    1],\n   [1,\n    0,\n    0,\n    0,\n    0,\n    0,\n    0,\n    0,\n    0,\n    2,\n    2,\n    0,\n    0,\n    0,\n    0,\n    2,\n    0,\n    6,\n    0,\n    0,\n    0,\n    0,\n    2,\n    2,\n    0,\n    1],\n   [1,\n    0,\n    0,\n    0,\n    2,\n    0,\n    0,\n    0,\n    2,\n    2,\n    0,\n    0,\n    0,\n    0,\n    0,\n    0,\n    2,\n    0,\n    0,\n    0,\n    0,\n    2,\n    2,\n    0,\n    0,\n    1],\n   [1,\n    0,\n    0,\n    0,\n    0,\n    1,\n    0,\n    2,\n    1,\n    0,\n    0,\n    0,\n    2,\n    0,\n    0,\n    0,\n    0,\n    2,\n    0,\n    0,\n    1,\n    2,\n    0,\n    0,\n    0,\n    1],\n   [1,\n    0,\n    0,\n    0,\n    0,\n    0,\n    1,\n    2,\n    0,\n    0,\n    0,\n    2,\n    2,\n    2,\n    0,\n    0,\n    0,\n    0,\n    0,\n    2,\n    2,\n    0,\n    0,\n    0,\n    0,\n    1],\n   [1,\n    0,\n    0,\n    0,\n    0,\n    0,\n    2,\n    0,\n    0,\n    0,\n    2,\n    2,\n    6,\n    2,\n    2,\n    0,\n    0,\n    0,\n    2,\n    1,\n    0,\n    0,\n    0,\n    0,\n    0,\n    1],\n   [1,\n    0,\n    0,\n    0,\n    0,\n    1,\n    0,\n    0,\n    2,\n    0,\n    0,\n    2,\n    2,\n    2,\n    0,\n    0,\n    0,\n    1,\n    2,\n    0,\n    1,\n    0,\n    0,\n    0,\n    0,\n    1],\n   [1,\n    0,\n    0,\n    0,\n    0,\n    0,\n    0,\n    2,\n    2,\n    2,\n    0,\n    0,\n    2,\n    0,\n    0,\n    0,\n    2,\n    2,\n    0,\n    0,\n    0,\n    2,\n    0,\n    0,\n    0,\n    1],\n   [1,\n    0,\n    0,\n    0,\n    0,\n    0,\n    2,\n    0,\n    6,\n    0,\n    2,\n    0,\n    0,\n    0,\n    0,\n    2,\n    2,\n    0,\n    0,\n    0,\n    0,\n    0,\n    2,\n    0,\n    0,\n    1],\n   [1,\n    0,\n    1,\n    0,\n    0,\n    2,\n    0,\n    0,\n    0,\n    0,\n    0,\n    2,\n    0,\n    0,\n    1,\n    2,\n    0,\n    0,\n    0,\n    1,\n    0,\n    0,\n    0,\n    1,\n    0,\n    1],\n   [1,\n    1,\n    0,\n    0,\n    2,\n    0,\n    0,\n    0,\n    0,\n    0,\n    0,\n    0,\n    2,\n    1,\n    2,\n    0,\n    0,\n    0,\n    1,\n    7,\n    1,\n    0,\n    0,\n    0,\n    1,\n    1],\n   [1,\n    1,\n    1,\n    1,\n    1,\n    1,\n    1,\n    1,\n    1,\n    1,\n    1,\n    1,\n    1,\n    1,\n    1,\n    1,\n    1,\n    1,\n    1,\n    1,\n    1,\n    1,\n    1,\n    1,\n    1,\n    1]],\n  'players': [{'box': 0,\n    'currentPosition': {'col': 24, 'row': 7},\n    'delay': 1200,\n    'humanCured': 0,\n    'humanInfected': 0,\n    'humanSaved': 0,\n    'id': 'player1-xxx',\n    'lives': 1000,\n    'pill': 0,\n    'pillUsed': 0,\n    'power': 1,\n    'quarantine': 0,\n    'score': 0,\n    'spawnBegin': {'col': 24, 'row': 7},\n    'speed': 230,\n    'timeStone': 0,\n    'virus': 0,\n    'virusInfected': 0},\n   {'box': 11,\n    'currentPosition': {'col': 20, 'row': 1},\n    'delay': 1200,\n    'humanCured': 2,\n    'humanInfected': 1,\n    'humanSaved': 3,\n    'id': 'player2-xxx',\n    'lives': 992,\n    'pill': 0,\n    'pillUsed': 2,\n    'power': 1,\n    'quarantine': 2,\n    'score': 2,\n    'spawnBegin': {'col': 1, 'row': 6},\n    'speed': 230,\n    'timeStone': 0,\n    'virus': 0,\n    'virusInfected': 1}],\n  'size': {'cols': 26, 'rows': 14},\n  'spoils': [{'col': 3, 'row': 3, 'spoil_type': 5},\n   {'col': 22, 'row': 5, 'spoil_type': 4},\n   {'col': 21, 'row': 6, 'spoil_type': 5},\n   {'col': 3, 'row': 9, 'spoil_type': 5},\n   {'col': 17, 'row': 6, 'spoil_type': 3},\n   {'col': 15, 'row': 5, 'spoil_type': 5},\n   {'col': 16, 'row': 7, 'spoil_type': 5},\n   {'col': 11, 'row': 4, 'spoil_type': 5},\n   {'col': 11, 'row': 5, 'spoil_type': 5},\n   {'col': 7, 'row': 4, 'spoil_type': 3},\n   {'col': 6, 'row': 5, 'spoil_type': 4},\n   {'col': 8, 'row': 3, 'spoil_type': 4},\n   {'col': 2, 'row': 6, 'spoil_type': 5},\n   {'col': 24, 'row': 3, 'spoil_type': 5},\n   {'col': 22, 'row': 1, 'spoil_type': 4},\n   {'col': 22, 'row': 2, 'spoil_type': 3},\n   {'col': 1, 'row': 6, 'spoil_type': 3},\n   {'col': 1, 'row': 8, 'spoil_type': 5},\n   {'col': 17, 'row': 7, 'spoil_type': 4},\n   {'col': 15, 'row': 7, 'spoil_type': 5},\n   {'col': 16, 'row': 8, 'spoil_type': 5},\n   {'col': 21, 'row': 10, 'spoil_type': 4},\n   {'col': 20, 'row': 11, 'spoil_type': 5},\n   {'col': 20, 'row': 10, 'spoil_type': 4},\n   {'col': 10, 'row': 8, 'spoil_type': 4},\n   {'col': 10, 'row': 6, 'spoil_type': 4},\n   {'col': 1, 'row': 9, 'spoil_type': 5},\n   {'col': 1, 'row': 7, 'spoil_type': 4},\n   {'col': 21, 'row': 8, 'spoil_type': 5},\n   {'col': 20, 'row': 9, 'spoil_type': 4},\n   {'col': 13, 'row': 4, 'spoil_type': 5},\n   {'col': 19, 'row': 8, 'spoil_type': 5},\n   {'col': 4, 'row': 7, 'spoil_type': 5},\n   {'col': 2, 'row': 8, 'spoil_type': 4},\n   {'col': 4, 'row': 8, 'spoil_type': 5},\n   {'col': 15, 'row': 6, 'spoil_type': 5},\n   {'col': 16, 'row': 6, 'spoil_type': 4},\n   {'col': 16, 'row': 5, 'spoil_type': 5},\n   {'col': 4, 'row': 3, 'spoil_type': 5},\n   {'col': 4, 'row': 2, 'spoil_type': 5},\n   {'col': 11, 'row': 9, 'spoil_type': 5},\n   {'col': 10, 'row': 9, 'spoil_type': 5},\n   {'col': 23, 'row': 4, 'spoil_type': 5},\n   {'col': 24, 'row': 11, 'spoil_type': 5},\n   {'col': 8, 'row': 12, 'spoil_type': 5},\n   {'col': 9, 'row': 11, 'spoil_type': 5},\n   {'col': 5, 'row': 6, 'spoil_type': 4},\n   {'col': 23, 'row': 1, 'spoil_type': 3},\n   {'col': 14, 'row': 10, 'spoil_type': 3},\n   {'col': 10, 'row': 4, 'spoil_type': 5},\n   {'col': 14, 'row': 9, 'spoil_type': 5},\n   {'col': 15, 'row': 9, 'spoil_type': 5},\n   {'col': 8, 'row': 7, 'spoil_type': 4},\n   {'col': 9, 'row': 7, 'spoil_type': 5},\n   {'col': 18, 'row': 6, 'spoil_type': 5},\n   {'col': 18, 'row': 4, 'spoil_type': 5}],\n  'virusSpeed': 52.5,\n  'viruses': [{'direction': 1, 'position': {'col': 7, 'row': 7}},\n   {'direction': 3, 'position': {'col': 22, 'row': 11}},\n   {'direction': 2, 'position': {'col': 8, 'row': 12}},\n   {'direction': 1, 'position': {'col': 18, 'row': 9}},\n   {'direction': 1, 'position': {'col': 16, 'row': 3}},\n   {'direction': 1, 'position': {'col': 15, 'row': 8}},\n   {'direction': 1, 'position': {'col': 8, 'row': 12}},\n   {'direction': 4, 'position': {'col': 19, 'row': 10}},\n   {'direction': 4, 'position': {'col': 7, 'row': 4}},\n   {'direction': 1, 'position': {'col': 20, 'row': 10}}]},\n 'player_id': 'player2-xxx',\n 'tag': 'bomb:setup',\n 'timestamp': 1660527646514}"
     },
     "execution_count": 27,
     "metadata": {},
     "output_type": "execute_result"
    }
   ],
   "source": [
    "# read json file\n",
    "file = 'data.json'\n",
    "with open(file) as f:\n",
    "    data = json.load(f)\n",
    "\n",
    "data"
   ],
   "metadata": {
    "collapsed": false,
    "pycharm": {
     "name": "#%%\n"
    }
   }
  },
  {
   "cell_type": "code",
   "execution_count": 28,
   "outputs": [],
   "source": [
    "mapp = data['map_info']['map']"
   ],
   "metadata": {
    "collapsed": false,
    "pycharm": {
     "name": "#%%\n"
    }
   }
  },
  {
   "cell_type": "code",
   "execution_count": 29,
   "outputs": [],
   "source": [
    "mapp = np.array(mapp)"
   ],
   "metadata": {
    "collapsed": false,
    "pycharm": {
     "name": "#%%\n"
    }
   }
  },
  {
   "cell_type": "code",
   "execution_count": 30,
   "outputs": [
    {
     "data": {
      "text/plain": "array([[1, 1, 1, 1, 1, 1, 1, 1, 1, 1, 1, 1, 1, 1, 1, 1, 1, 1, 1, 1, 1, 1,\n        1, 1, 1, 1],\n       [1, 1, 0, 0, 0, 1, 7, 1, 0, 0, 0, 2, 1, 2, 0, 0, 0, 0, 0, 0, 0, 2,\n        0, 0, 1, 1],\n       [1, 0, 1, 0, 0, 0, 1, 0, 0, 0, 2, 1, 0, 0, 2, 0, 0, 0, 0, 0, 2, 0,\n        0, 1, 2, 1],\n       [1, 0, 0, 0, 0, 0, 0, 0, 0, 2, 2, 0, 0, 0, 0, 2, 0, 6, 0, 0, 0, 0,\n        2, 2, 0, 1],\n       [1, 0, 0, 0, 2, 0, 0, 0, 2, 2, 0, 0, 0, 0, 0, 0, 2, 0, 0, 0, 0, 2,\n        2, 0, 0, 1],\n       [1, 0, 0, 0, 0, 1, 0, 2, 1, 0, 0, 0, 2, 0, 0, 0, 0, 2, 0, 0, 1, 2,\n        0, 0, 0, 1],\n       [1, 0, 0, 0, 0, 0, 1, 2, 0, 0, 0, 2, 2, 2, 0, 0, 0, 0, 0, 2, 2, 0,\n        0, 0, 0, 1],\n       [1, 0, 0, 0, 0, 0, 2, 0, 0, 0, 2, 2, 6, 2, 2, 0, 0, 0, 2, 1, 0, 0,\n        0, 0, 0, 1],\n       [1, 0, 0, 0, 0, 1, 0, 0, 2, 0, 0, 2, 2, 2, 0, 0, 0, 1, 2, 0, 1, 0,\n        0, 0, 0, 1],\n       [1, 0, 0, 0, 0, 0, 0, 2, 2, 2, 0, 0, 2, 0, 0, 0, 2, 2, 0, 0, 0, 2,\n        0, 0, 0, 1],\n       [1, 0, 0, 0, 0, 0, 2, 0, 6, 0, 2, 0, 0, 0, 0, 2, 2, 0, 0, 0, 0, 0,\n        2, 0, 0, 1],\n       [1, 0, 1, 0, 0, 2, 0, 0, 0, 0, 0, 2, 0, 0, 1, 2, 0, 0, 0, 1, 0, 0,\n        0, 1, 0, 1],\n       [1, 1, 0, 0, 2, 0, 0, 0, 0, 0, 0, 0, 2, 1, 2, 0, 0, 0, 1, 7, 1, 0,\n        0, 0, 1, 1],\n       [1, 1, 1, 1, 1, 1, 1, 1, 1, 1, 1, 1, 1, 1, 1, 1, 1, 1, 1, 1, 1, 1,\n        1, 1, 1, 1]])"
     },
     "execution_count": 30,
     "metadata": {},
     "output_type": "execute_result"
    }
   ],
   "source": [
    "mapp"
   ],
   "metadata": {
    "collapsed": false,
    "pycharm": {
     "name": "#%%\n"
    }
   }
  },
  {
   "cell_type": "code",
   "execution_count": 31,
   "outputs": [
    {
     "data": {
      "text/plain": "array([0, 1, 2, 6, 7])"
     },
     "execution_count": 31,
     "metadata": {},
     "output_type": "execute_result"
    }
   ],
   "source": [
    "np.unique(mapp)"
   ],
   "metadata": {
    "collapsed": false,
    "pycharm": {
     "name": "#%%\n"
    }
   }
  },
  {
   "cell_type": "code",
   "execution_count": 32,
   "outputs": [],
   "source": [
    "# mapp[0,1]"
   ],
   "metadata": {
    "collapsed": false,
    "pycharm": {
     "name": "#%%\n"
    }
   }
  },
  {
   "cell_type": "code",
   "execution_count": 33,
   "outputs": [],
   "source": [
    "mapp[mapp == 6] = 3\n",
    "mapp[mapp == 7] = 4\n"
   ],
   "metadata": {
    "collapsed": false,
    "pycharm": {
     "name": "#%%\n"
    }
   }
  },
  {
   "cell_type": "code",
   "execution_count": 34,
   "outputs": [
    {
     "data": {
      "text/plain": "array([0, 1, 2, 3, 4])"
     },
     "execution_count": 34,
     "metadata": {},
     "output_type": "execute_result"
    }
   ],
   "source": [
    "np.unique(mapp)"
   ],
   "metadata": {
    "collapsed": false,
    "pycharm": {
     "name": "#%%\n"
    }
   }
  },
  {
   "cell_type": "code",
   "execution_count": 35,
   "outputs": [],
   "source": [
    "mapp = torch.from_numpy(mapp)"
   ],
   "metadata": {
    "collapsed": false,
    "pycharm": {
     "name": "#%%\n"
    }
   }
  },
  {
   "cell_type": "code",
   "execution_count": 36,
   "outputs": [],
   "source": [
    "mapp = F.one_hot(mapp)"
   ],
   "metadata": {
    "collapsed": false,
    "pycharm": {
     "name": "#%%\n"
    }
   }
  },
  {
   "cell_type": "code",
   "execution_count": 37,
   "outputs": [
    {
     "data": {
      "text/plain": "torch.Size([14, 26, 5])"
     },
     "execution_count": 37,
     "metadata": {},
     "output_type": "execute_result"
    }
   ],
   "source": [
    "mapp.shape"
   ],
   "metadata": {
    "collapsed": false,
    "pycharm": {
     "name": "#%%\n"
    }
   }
  },
  {
   "cell_type": "code",
   "execution_count": 39,
   "outputs": [
    {
     "data": {
      "text/plain": "tensor([[[0, 1, 0, 0, 0],\n         [0, 1, 0, 0, 0],\n         [0, 1, 0, 0, 0],\n         ...,\n         [0, 1, 0, 0, 0],\n         [0, 1, 0, 0, 0],\n         [0, 1, 0, 0, 0]],\n\n        [[0, 1, 0, 0, 0],\n         [0, 1, 0, 0, 0],\n         [1, 0, 0, 0, 0],\n         ...,\n         [1, 0, 0, 0, 0],\n         [0, 1, 0, 0, 0],\n         [0, 1, 0, 0, 0]],\n\n        [[0, 1, 0, 0, 0],\n         [1, 0, 0, 0, 0],\n         [0, 1, 0, 0, 0],\n         ...,\n         [0, 1, 0, 0, 0],\n         [0, 0, 1, 0, 0],\n         [0, 1, 0, 0, 0]],\n\n        ...,\n\n        [[0, 1, 0, 0, 0],\n         [1, 0, 0, 0, 0],\n         [0, 1, 0, 0, 0],\n         ...,\n         [0, 1, 0, 0, 0],\n         [1, 0, 0, 0, 0],\n         [0, 1, 0, 0, 0]],\n\n        [[0, 1, 0, 0, 0],\n         [0, 1, 0, 0, 0],\n         [1, 0, 0, 0, 0],\n         ...,\n         [1, 0, 0, 0, 0],\n         [0, 1, 0, 0, 0],\n         [0, 1, 0, 0, 0]],\n\n        [[0, 1, 0, 0, 0],\n         [0, 1, 0, 0, 0],\n         [0, 1, 0, 0, 0],\n         ...,\n         [0, 1, 0, 0, 0],\n         [0, 1, 0, 0, 0],\n         [0, 1, 0, 0, 0]]])"
     },
     "execution_count": 39,
     "metadata": {},
     "output_type": "execute_result"
    }
   ],
   "source": [
    "mapp"
   ],
   "metadata": {
    "collapsed": false,
    "pycharm": {
     "name": "#%%\n"
    }
   }
  },
  {
   "cell_type": "code",
   "execution_count": 40,
   "outputs": [],
   "source": [
    "bombs = data['map_info']['bombs']"
   ],
   "metadata": {
    "collapsed": false,
    "pycharm": {
     "name": "#%%\n"
    }
   }
  },
  {
   "cell_type": "code",
   "execution_count": 44,
   "outputs": [
    {
     "data": {
      "text/plain": "[{'col': 20, 'playerId': 'player2-xxx', 'remainTime': 1999, 'row': 1}]"
     },
     "execution_count": 44,
     "metadata": {},
     "output_type": "execute_result"
    }
   ],
   "source": [
    "bombs"
   ],
   "metadata": {
    "collapsed": false,
    "pycharm": {
     "name": "#%%\n"
    }
   }
  },
  {
   "cell_type": "code",
   "execution_count": 46,
   "outputs": [
    {
     "data": {
      "text/plain": "dict_keys(['bombs', 'gameStatus', 'human', 'humanSpeed', 'map', 'players', 'size', 'spoils', 'virusSpeed', 'viruses'])"
     },
     "execution_count": 46,
     "metadata": {},
     "output_type": "execute_result"
    }
   ],
   "source": [
    "data['map_info'].keys()"
   ],
   "metadata": {
    "collapsed": false,
    "pycharm": {
     "name": "#%%\n"
    }
   }
  },
  {
   "cell_type": "code",
   "execution_count": 49,
   "outputs": [
    {
     "data": {
      "text/plain": "{'cols': 26, 'rows': 14}"
     },
     "execution_count": 49,
     "metadata": {},
     "output_type": "execute_result"
    }
   ],
   "source": [
    "data['map_info']['size']"
   ],
   "metadata": {
    "collapsed": false,
    "pycharm": {
     "name": "#%%\n"
    }
   }
  },
  {
   "cell_type": "code",
   "execution_count": 53,
   "outputs": [],
   "source": [
    "map_bombs = torch.zeros(data['map_info']['size']['rows'], data['map_info']['size']['cols'])"
   ],
   "metadata": {
    "collapsed": false,
    "pycharm": {
     "name": "#%%\n"
    }
   }
  },
  {
   "cell_type": "code",
   "execution_count": 54,
   "outputs": [
    {
     "data": {
      "text/plain": "torch.Size([14, 26])"
     },
     "execution_count": 54,
     "metadata": {},
     "output_type": "execute_result"
    }
   ],
   "source": [
    "map_bombs.shape"
   ],
   "metadata": {
    "collapsed": false,
    "pycharm": {
     "name": "#%%\n"
    }
   }
  },
  {
   "cell_type": "code",
   "execution_count": 55,
   "outputs": [
    {
     "data": {
      "text/plain": "torch.Size([14, 26, 5])"
     },
     "execution_count": 55,
     "metadata": {},
     "output_type": "execute_result"
    }
   ],
   "source": [
    "mapp.shape"
   ],
   "metadata": {
    "collapsed": false,
    "pycharm": {
     "name": "#%%\n"
    }
   }
  },
  {
   "cell_type": "code",
   "execution_count": 56,
   "outputs": [],
   "source": [
    "# for bomb in bombs:\n",
    "#     map_bombs[bomb['row'], bomb['col']] = int(bomb['remainTime'])"
   ],
   "metadata": {
    "collapsed": false,
    "pycharm": {
     "name": "#%%\n"
    }
   }
  },
  {
   "cell_type": "code",
   "execution_count": 96,
   "outputs": [
    {
     "data": {
      "text/plain": "tensor([[   0.,    0.,    0.,    0.,    0.,    0.,    0.,    0.,    0.,    0.,\n            0.,    0.,    0.,    0.,    0.,    0.,    0.,    0.,    0.,    0.,\n            0.,    0.,    0.,    0.,    0.,    0.],\n        [   0.,    0.,    0.,    0.,    0.,    0.,    0.,    0.,    0.,    0.,\n            0.,    0.,    0.,    0.,    0.,    0.,    0.,    0.,    0.,    0.,\n         1999.,    0.,    0.,    0.,    0.,    0.],\n        [   0.,    0.,    0.,    0.,    0.,    0.,    0.,    0.,    0.,    0.,\n            0.,    0.,    0.,    0.,    0.,    0.,    0.,    0.,    0.,    0.,\n            0.,    0.,    0.,    0.,    0.,    0.],\n        [   0.,    0.,    0.,    0.,    0.,    0.,    0.,    0.,    0.,    0.,\n            0.,    0.,    0.,    0.,    0.,    0.,    0.,    0.,    0.,    0.,\n            0.,    0.,    0.,    0.,    0.,    0.],\n        [   0.,    0.,    0.,    0.,    0.,    0.,    0.,    0.,    0.,    0.,\n            0.,    0.,    0.,    0.,    0.,    0.,    0.,    0.,    0.,    0.,\n            0.,    0.,    0.,    0.,    0.,    0.],\n        [   0.,    0.,    0.,    0.,    0.,    0.,    0.,    0.,    0.,    0.,\n            0.,    0.,    0.,    0.,    0.,    0.,    0.,    0.,    0.,    0.,\n            0.,    0.,    0.,    0.,    0.,    0.],\n        [   0.,    0.,    0.,    0.,    0.,    0.,    0.,    0.,    0.,    0.,\n            0.,    0.,    0.,    0.,    0.,    0.,    0.,    0.,    0.,    0.,\n            0.,    0.,    0.,    0.,    0.,    0.],\n        [   0.,    0.,    0.,    0.,    0.,    0.,    0.,    0.,    0.,    0.,\n            0.,    0.,    0.,    0.,    0.,    0.,    0.,    0.,    0.,    0.,\n            0.,    0.,    0.,    0.,    0.,    0.],\n        [   0.,    0.,    0.,    0.,    0.,    0.,    0.,    0.,    0.,    0.,\n            0.,    0.,    0.,    0.,    0.,    0.,    0.,    0.,    0.,    0.,\n            0.,    0.,    0.,    0.,    0.,    0.],\n        [   0.,    0.,    0.,    0.,    0.,    0.,    0.,    0.,    0.,    0.,\n            0.,    0.,    0.,    0.,    0.,    0.,    0.,    0.,    0.,    0.,\n            0.,    0.,    0.,    0.,    0.,    0.],\n        [   0.,    0.,    0.,    0.,    0.,    0.,    0.,    0.,    0.,    0.,\n            0.,    0.,    0.,    0.,    0.,    0.,    0.,    0.,    0.,    0.,\n            0.,    0.,    0.,    0.,    0.,    0.],\n        [   0.,    0.,    0.,    0.,    0.,    0.,    0.,    0.,    0.,    0.,\n            0.,    0.,    0.,    0.,    0.,    0.,    0.,    0.,    0.,    0.,\n            0.,    0.,    0.,    0.,    0.,    0.],\n        [   0.,    0.,    0.,    0.,    0.,    0.,    0.,    0.,    0.,    0.,\n            0.,    0.,    0.,    0.,    0.,    0.,    0.,    0.,    0.,    0.,\n            0.,    0.,    0.,    0.,    0.,    0.],\n        [   0.,    0.,    0.,    0.,    0.,    0.,    0.,    0.,    0.,    0.,\n            0.,    0.,    0.,    0.,    0.,    0.,    0.,    0.,    0.,    0.,\n            0.,    0.,    0.,    0.,    0.,    0.]])"
     },
     "execution_count": 96,
     "metadata": {},
     "output_type": "execute_result"
    }
   ],
   "source": [
    "map_bombs"
   ],
   "metadata": {
    "collapsed": false,
    "pycharm": {
     "name": "#%%\n"
    }
   }
  },
  {
   "cell_type": "code",
   "execution_count": 61,
   "outputs": [],
   "source": [
    "a = map_bombs.numpy()"
   ],
   "metadata": {
    "collapsed": false,
    "pycharm": {
     "name": "#%%\n"
    }
   }
  },
  {
   "cell_type": "code",
   "execution_count": 98,
   "outputs": [
    {
     "data": {
      "text/plain": "torch.Size([14, 26])"
     },
     "execution_count": 98,
     "metadata": {},
     "output_type": "execute_result"
    }
   ],
   "source": [
    "map_bombs.shape"
   ],
   "metadata": {
    "collapsed": false,
    "pycharm": {
     "name": "#%%\n"
    }
   }
  },
  {
   "cell_type": "code",
   "execution_count": 62,
   "outputs": [],
   "source": [
    "spoils = data['map_info']['spoils']"
   ],
   "metadata": {
    "collapsed": false,
    "pycharm": {
     "name": "#%%\n"
    }
   }
  },
  {
   "cell_type": "code",
   "execution_count": 63,
   "outputs": [],
   "source": [
    "map_spoils = torch.zeros(data['map_info']['size']['rows'], data['map_info']['size']['cols'])"
   ],
   "metadata": {
    "collapsed": false,
    "pycharm": {
     "name": "#%%\n"
    }
   }
  },
  {
   "cell_type": "code",
   "execution_count": 77,
   "outputs": [
    {
     "data": {
      "text/plain": "torch.float32"
     },
     "execution_count": 77,
     "metadata": {},
     "output_type": "execute_result"
    }
   ],
   "source": [
    "map_spoils.dtype"
   ],
   "metadata": {
    "collapsed": false,
    "pycharm": {
     "name": "#%%\n"
    }
   }
  },
  {
   "cell_type": "code",
   "execution_count": 74,
   "outputs": [],
   "source": [
    "for spoil in spoils:\n",
    "    map_spoils[spoil['row'], spoil['col']] = int(spoil['spoil_type'])"
   ],
   "metadata": {
    "collapsed": false,
    "pycharm": {
     "name": "#%%\n"
    }
   }
  },
  {
   "cell_type": "code",
   "execution_count": 88,
   "outputs": [],
   "source": [
    "map_spoils = map_spoils.long()"
   ],
   "metadata": {
    "collapsed": false,
    "pycharm": {
     "name": "#%%\n"
    }
   }
  },
  {
   "cell_type": "code",
   "execution_count": 89,
   "outputs": [
    {
     "data": {
      "text/plain": "tensor([[0, 0, 0, 0, 0, 0, 0, 0, 0, 0, 0, 0, 0, 0, 0, 0, 0, 0, 0, 0, 0, 0, 0, 0,\n         0, 0],\n        [0, 0, 0, 0, 0, 0, 0, 0, 0, 0, 0, 0, 0, 0, 0, 0, 0, 0, 0, 0, 0, 0, 1, 0,\n         0, 0],\n        [0, 0, 0, 0, 2, 0, 0, 0, 0, 0, 0, 0, 0, 0, 0, 0, 0, 0, 0, 0, 0, 0, 0, 0,\n         0, 0],\n        [0, 0, 0, 2, 2, 0, 0, 0, 1, 0, 0, 0, 0, 0, 0, 0, 0, 0, 0, 0, 0, 0, 0, 0,\n         2, 0],\n        [0, 0, 0, 0, 0, 0, 0, 0, 0, 0, 2, 2, 0, 2, 0, 0, 0, 0, 2, 0, 0, 0, 0, 2,\n         0, 0],\n        [0, 0, 0, 0, 0, 0, 1, 0, 0, 0, 0, 2, 0, 0, 0, 2, 2, 0, 0, 0, 0, 0, 1, 0,\n         0, 0],\n        [0, 0, 2, 0, 0, 1, 0, 0, 0, 0, 1, 0, 0, 0, 0, 2, 1, 0, 2, 0, 0, 2, 0, 0,\n         0, 0],\n        [0, 1, 0, 0, 2, 0, 0, 0, 1, 2, 0, 0, 0, 0, 0, 2, 2, 1, 0, 0, 0, 0, 0, 0,\n         0, 0],\n        [0, 2, 1, 0, 2, 0, 0, 0, 0, 0, 1, 0, 0, 0, 0, 0, 2, 0, 0, 2, 0, 2, 0, 0,\n         0, 0],\n        [0, 2, 0, 2, 0, 0, 0, 0, 0, 0, 2, 2, 0, 0, 2, 2, 0, 0, 0, 0, 1, 0, 0, 0,\n         0, 0],\n        [0, 0, 0, 0, 0, 0, 0, 0, 0, 0, 0, 0, 0, 0, 0, 0, 0, 0, 0, 0, 1, 1, 0, 0,\n         0, 0],\n        [0, 0, 0, 0, 0, 0, 0, 0, 0, 2, 0, 0, 0, 0, 0, 0, 0, 0, 0, 0, 2, 0, 0, 0,\n         2, 0],\n        [0, 0, 0, 0, 0, 0, 0, 0, 2, 0, 0, 0, 0, 0, 0, 0, 0, 0, 0, 0, 0, 0, 0, 0,\n         0, 0],\n        [0, 0, 0, 0, 0, 0, 0, 0, 0, 0, 0, 0, 0, 0, 0, 0, 0, 0, 0, 0, 0, 0, 0, 0,\n         0, 0]])"
     },
     "execution_count": 89,
     "metadata": {},
     "output_type": "execute_result"
    }
   ],
   "source": [
    "map_spoils"
   ],
   "metadata": {
    "collapsed": false,
    "pycharm": {
     "name": "#%%\n"
    }
   }
  },
  {
   "cell_type": "code",
   "execution_count": 90,
   "outputs": [],
   "source": [
    "map_spoils[map_spoils == 3] = 0\n",
    "map_spoils[map_spoils == 4] = 1\n",
    "map_spoils[map_spoils == 5] = 2\n"
   ],
   "metadata": {
    "collapsed": false,
    "pycharm": {
     "name": "#%%\n"
    }
   }
  },
  {
   "cell_type": "code",
   "execution_count": 91,
   "outputs": [
    {
     "data": {
      "text/plain": "torch.int64"
     },
     "execution_count": 91,
     "metadata": {},
     "output_type": "execute_result"
    }
   ],
   "source": [
    "map_spoils.dtype"
   ],
   "metadata": {
    "collapsed": false,
    "pycharm": {
     "name": "#%%\n"
    }
   }
  },
  {
   "cell_type": "code",
   "execution_count": 93,
   "outputs": [],
   "source": [
    "one_hot_map_spoils = F.one_hot(map_spoils, num_classes=3)"
   ],
   "metadata": {
    "collapsed": false,
    "pycharm": {
     "name": "#%%\n"
    }
   }
  },
  {
   "cell_type": "code",
   "execution_count": 99,
   "outputs": [
    {
     "data": {
      "text/plain": "torch.Size([14, 26, 3])"
     },
     "execution_count": 99,
     "metadata": {},
     "output_type": "execute_result"
    }
   ],
   "source": [
    "one_hot_map_spoils.shape"
   ],
   "metadata": {
    "collapsed": false,
    "pycharm": {
     "name": "#%%\n"
    }
   }
  },
  {
   "cell_type": "code",
   "execution_count": 102,
   "outputs": [
    {
     "data": {
      "text/plain": "[{'box': 0,\n  'currentPosition': {'col': 24, 'row': 7},\n  'delay': 1200,\n  'humanCured': 0,\n  'humanInfected': 0,\n  'humanSaved': 0,\n  'id': 'player1-xxx',\n  'lives': 1000,\n  'pill': 0,\n  'pillUsed': 0,\n  'power': 1,\n  'quarantine': 0,\n  'score': 0,\n  'spawnBegin': {'col': 24, 'row': 7},\n  'speed': 230,\n  'timeStone': 0,\n  'virus': 0,\n  'virusInfected': 0},\n {'box': 11,\n  'currentPosition': {'col': 20, 'row': 1},\n  'delay': 1200,\n  'humanCured': 2,\n  'humanInfected': 1,\n  'humanSaved': 3,\n  'id': 'player2-xxx',\n  'lives': 992,\n  'pill': 0,\n  'pillUsed': 2,\n  'power': 1,\n  'quarantine': 2,\n  'score': 2,\n  'spawnBegin': {'col': 1, 'row': 6},\n  'speed': 230,\n  'timeStone': 0,\n  'virus': 0,\n  'virusInfected': 1}]"
     },
     "execution_count": 102,
     "metadata": {},
     "output_type": "execute_result"
    }
   ],
   "source": [
    "data['map_info']['players']"
   ],
   "metadata": {
    "collapsed": false,
    "pycharm": {
     "name": "#%%\n"
    }
   }
  },
  {
   "cell_type": "code",
   "execution_count": 160,
   "outputs": [
    {
     "name": "stdout",
     "output_type": "stream",
     "text": [
      "1\n"
     ]
    }
   ],
   "source": [
    "\n",
    "map_bombs_power = torch.zeros(data['map_info']['size']['rows'], data['map_info']['size']['cols'])\n",
    "for i in range(len(data['map_info']['players'])):\n",
    "    power = data['map_info']['players'][i]['power']\n",
    "    player_id = data['map_info']['players'][i]['id']\n",
    "    for bomb in bombs:\n",
    "        if bomb['playerId'] == player_id:\n",
    "            remainTime = int(bomb['remainTime'])\n",
    "            # map_bombs_power[bomb['row'], bomb['col']] = remainTime\n",
    "            print(power)\n",
    "            for p in range(power+3):\n",
    "                map_bombs_power[bomb['row']+p, bomb['col']] = remainTime\n",
    "                map_bombs_power[bomb['row'], bomb['col']+p] = remainTime\n",
    "                _row = max(0, bomb['row']-p)\n",
    "                _col = max(0, bomb['col']-p)\n",
    "                map_bombs_power[_row, bomb['col']] = remainTime\n",
    "                map_bombs_power[bomb['row'], _col] = remainTime\n"
   ],
   "metadata": {
    "collapsed": false,
    "pycharm": {
     "name": "#%%\n"
    }
   }
  },
  {
   "cell_type": "code",
   "execution_count": 162,
   "outputs": [
    {
     "data": {
      "text/plain": "tensor([[   0.,    0.,    0.,    0.,    0.,    0.,    0.,    0.,    0.,    0.,\n            0.,    0.,    0.,    0.,    0.,    0.,    0.,    0.,    0.,    0.,\n         1999.,    0.,    0.,    0.,    0.,    0.],\n        [   0.,    0.,    0.,    0.,    0.,    0.,    0.,    0.,    0.,    0.,\n            0.,    0.,    0.,    0.,    0.,    0.,    0., 1999., 1999., 1999.,\n         1999., 1999., 1999., 1999.,    0.,    0.],\n        [   0.,    0.,    0.,    0.,    0.,    0.,    0.,    0.,    0.,    0.,\n            0.,    0.,    0.,    0.,    0.,    0.,    0.,    0.,    0.,    0.,\n         1999.,    0.,    0.,    0.,    0.,    0.],\n        [   0.,    0.,    0.,    0.,    0.,    0.,    0.,    0.,    0.,    0.,\n            0.,    0.,    0.,    0.,    0.,    0.,    0.,    0.,    0.,    0.,\n         1999.,    0.,    0.,    0.,    0.,    0.],\n        [   0.,    0.,    0.,    0.,    0.,    0.,    0.,    0.,    0.,    0.,\n            0.,    0.,    0.,    0.,    0.,    0.,    0.,    0.,    0.,    0.,\n         1999.,    0.,    0.,    0.,    0.,    0.],\n        [   0.,    0.,    0.,    0.,    0.,    0.,    0.,    0.,    0.,    0.,\n            0.,    0.,    0.,    0.,    0.,    0.,    0.,    0.,    0.,    0.,\n            0.,    0.,    0.,    0.,    0.,    0.],\n        [   0.,    0.,    0.,    0.,    0.,    0.,    0.,    0.,    0.,    0.,\n            0.,    0.,    0.,    0.,    0.,    0.,    0.,    0.,    0.,    0.,\n            0.,    0.,    0.,    0.,    0.,    0.],\n        [   0.,    0.,    0.,    0.,    0.,    0.,    0.,    0.,    0.,    0.,\n            0.,    0.,    0.,    0.,    0.,    0.,    0.,    0.,    0.,    0.,\n            0.,    0.,    0.,    0.,    0.,    0.],\n        [   0.,    0.,    0.,    0.,    0.,    0.,    0.,    0.,    0.,    0.,\n            0.,    0.,    0.,    0.,    0.,    0.,    0.,    0.,    0.,    0.,\n            0.,    0.,    0.,    0.,    0.,    0.],\n        [   0.,    0.,    0.,    0.,    0.,    0.,    0.,    0.,    0.,    0.,\n            0.,    0.,    0.,    0.,    0.,    0.,    0.,    0.,    0.,    0.,\n            0.,    0.,    0.,    0.,    0.,    0.],\n        [   0.,    0.,    0.,    0.,    0.,    0.,    0.,    0.,    0.,    0.,\n            0.,    0.,    0.,    0.,    0.,    0.,    0.,    0.,    0.,    0.,\n            0.,    0.,    0.,    0.,    0.,    0.],\n        [   0.,    0.,    0.,    0.,    0.,    0.,    0.,    0.,    0.,    0.,\n            0.,    0.,    0.,    0.,    0.,    0.,    0.,    0.,    0.,    0.,\n            0.,    0.,    0.,    0.,    0.,    0.],\n        [   0.,    0.,    0.,    0.,    0.,    0.,    0.,    0.,    0.,    0.,\n            0.,    0.,    0.,    0.,    0.,    0.,    0.,    0.,    0.,    0.,\n            0.,    0.,    0.,    0.,    0.,    0.],\n        [   0.,    0.,    0.,    0.,    0.,    0.,    0.,    0.,    0.,    0.,\n            0.,    0.,    0.,    0.,    0.,    0.,    0.,    0.,    0.,    0.,\n            0.,    0.,    0.,    0.,    0.,    0.]])"
     },
     "execution_count": 162,
     "metadata": {},
     "output_type": "execute_result"
    }
   ],
   "source": [
    "\n",
    "map_bombs_power"
   ],
   "metadata": {
    "collapsed": false,
    "pycharm": {
     "name": "#%%\n"
    }
   }
  },
  {
   "cell_type": "code",
   "execution_count": 163,
   "outputs": [
    {
     "data": {
      "text/plain": "torch.Size([14, 26])"
     },
     "execution_count": 163,
     "metadata": {},
     "output_type": "execute_result"
    }
   ],
   "source": [
    "map_bombs_power.shape"
   ],
   "metadata": {
    "collapsed": false,
    "pycharm": {
     "name": "#%%\n"
    }
   }
  },
  {
   "cell_type": "code",
   "execution_count": 164,
   "outputs": [
    {
     "data": {
      "text/plain": "torch.float32"
     },
     "execution_count": 164,
     "metadata": {},
     "output_type": "execute_result"
    }
   ],
   "source": [
    "map_bombs_power.dtype"
   ],
   "metadata": {
    "collapsed": false,
    "pycharm": {
     "name": "#%%\n"
    }
   }
  },
  {
   "cell_type": "code",
   "execution_count": 165,
   "outputs": [],
   "source": [
    "a = map_bombs_power.numpy()"
   ],
   "metadata": {
    "collapsed": false,
    "pycharm": {
     "name": "#%%\n"
    }
   }
  },
  {
   "cell_type": "code",
   "execution_count": 166,
   "outputs": [],
   "source": [
    "\n",
    "PLAYER_ID = \"player1-xxx\"\n",
    "map_enemy = torch.zeros(data['map_info']['size']['rows'], data['map_info']['size']['cols'])\n",
    "for i in range(len(data['map_info']['players'])):\n",
    "    if data['map_info']['players'][i]['id'] != PLAYER_ID:\n",
    "        player_id = data['map_info']['players'][i]['id']\n",
    "        map_enemy[data['map_info']['players'][i]['currentPosition']['row'], data['map_info']['players'][i]['currentPosition']['col']] = 1\n",
    "map_current_player = torch.zeros(data['map_info']['size']['rows'], data['map_info']['size']['cols'])\n",
    "for i in range(len(data['map_info']['players'])):\n",
    "    if data['map_info']['players'][i]['id'] == PLAYER_ID:\n",
    "        player_id = data['map_info']['players'][i]['id']\n",
    "        map_current_player[data['map_info']['players'][i]['currentPosition']['row'], data['map_info']['players'][i]['currentPosition']['col']] = 1"
   ],
   "metadata": {
    "collapsed": false,
    "pycharm": {
     "name": "#%%\n"
    }
   }
  },
  {
   "cell_type": "code",
   "execution_count": 169,
   "outputs": [
    {
     "data": {
      "text/plain": "torch.Size([14, 26])"
     },
     "execution_count": 169,
     "metadata": {},
     "output_type": "execute_result"
    }
   ],
   "source": [
    "map_enemy.shape"
   ],
   "metadata": {
    "collapsed": false,
    "pycharm": {
     "name": "#%%\n"
    }
   }
  },
  {
   "cell_type": "code",
   "execution_count": 175,
   "outputs": [
    {
     "name": "stdout",
     "output_type": "stream",
     "text": [
      "mapp.shape:  torch.Size([14, 26, 5])\n",
      "one_hot_map_spoils.shape:  torch.Size([14, 26, 3])\n",
      "map_bombs_power.shape:  torch.Size([14, 26])\n",
      "map_enemy.shape:  torch.Size([14, 26])\n",
      "map_current_player.shape:  torch.Size([14, 26])\n"
     ]
    }
   ],
   "source": [
    "# concat everything\n",
    "print('mapp.shape: ', mapp.shape)\n",
    "print('one_hot_map_spoils.shape: ', one_hot_map_spoils.shape)\n",
    "print('map_bombs_power.shape: ', map_bombs_power.shape)\n",
    "print('map_enemy.shape: ', map_enemy.shape)\n",
    "print('map_current_player.shape: ', map_current_player.shape)"
   ],
   "metadata": {
    "collapsed": false,
    "pycharm": {
     "name": "#%%\n"
    }
   }
  },
  {
   "cell_type": "code",
   "execution_count": 177,
   "outputs": [],
   "source": [
    "map_all = torch.cat((mapp, one_hot_map_spoils, map_bombs_power[...,None], map_enemy[...,None], map_current_player[...,None]), dim=2)"
   ],
   "metadata": {
    "collapsed": false,
    "pycharm": {
     "name": "#%%\n"
    }
   }
  },
  {
   "cell_type": "code",
   "execution_count": 178,
   "outputs": [
    {
     "data": {
      "text/plain": "torch.Size([14, 26, 11])"
     },
     "execution_count": 178,
     "metadata": {},
     "output_type": "execute_result"
    }
   ],
   "source": [
    "map_all.shape"
   ],
   "metadata": {
    "collapsed": false,
    "pycharm": {
     "name": "#%%\n"
    }
   }
  }
 ],
 "metadata": {
  "kernelspec": {
   "display_name": "Python 3",
   "language": "python",
   "name": "python3"
  },
  "language_info": {
   "codemirror_mode": {
    "name": "ipython",
    "version": 2
   },
   "file_extension": ".py",
   "mimetype": "text/x-python",
   "name": "python",
   "nbconvert_exporter": "python",
   "pygments_lexer": "ipython2",
   "version": "2.7.6"
  }
 },
 "nbformat": 4,
 "nbformat_minor": 0
}